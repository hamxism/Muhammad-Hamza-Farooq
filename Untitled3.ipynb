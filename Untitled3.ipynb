{
  "nbformat": 4,
  "nbformat_minor": 0,
  "metadata": {
    "colab": {
      "name": "Untitled3.ipynb",
      "provenance": [],
      "authorship_tag": "ABX9TyNlzD7JHAHh5D0LfKEOP5EM",
      "include_colab_link": true
    },
    "kernelspec": {
      "name": "python3",
      "display_name": "Python 3"
    },
    "language_info": {
      "name": "python"
    }
  },
  "cells": [
    {
      "cell_type": "markdown",
      "metadata": {
        "id": "view-in-github",
        "colab_type": "text"
      },
      "source": [
        "<a href=\"https://colab.research.google.com/github/hamxism/Muhammad-Hamza-Farooq/blob/main/Untitled3.ipynb\" target=\"_parent\"><img src=\"https://colab.research.google.com/assets/colab-badge.svg\" alt=\"Open In Colab\"/></a>"
      ]
    },
    {
      "cell_type": "code",
      "metadata": {
        "colab": {
          "base_uri": "https://localhost:8080/"
        },
        "id": "MpKwu0HVhU4N",
        "outputId": "c5ba0926-f89b-4a18-bff3-9c549af75155"
      },
      "source": [
        "#Design a food ordering system where your python program will run two threads.\n",
        "from collections import deque\n",
        "import time\n",
        "class queue:\n",
        "    def __init__(self):\n",
        "        self.buffer = deque()\n",
        "    def PlaceOrder(self, val):           #performing enque\n",
        "        for p_order in val:\n",
        "            self.buffer.append(p_order)\n",
        "            print(\"Ordered:\" ,p_order)\n",
        "            time.sleep(0.5)   #places new order every 0.5 second\n",
        "    def ServeOrder(self):                #performing deque\n",
        "      time.sleep(2)  #serves an order every 2 seconds\n",
        "      while not self.is_empty(): #while not loop  repeatedly executes the loop’s body until the condition for loop termination is met \n",
        "          served = self.buffer.pop()     #pop the order out of queue\n",
        "          time.sleep(1)\n",
        "          print(\"Served:\" ,served)\n",
        "    def is_empty(self):\n",
        "        return len(self.buffer)==0\n",
        "orders = ['pizza','samosa','pasta','biryani','burger']\n",
        "list = queue()\n",
        "\n",
        "import threading \n",
        "a = threading.Thread(target=list.PlaceOrder, args=(orders,))#Passing the following orders list as an argument.\n",
        "b = threading.Thread(target=list.ServeOrder)\n",
        "a.start()# starts thread:1\n",
        "b.start() # starts thread:2 \n",
        "# This may take a while until thread 1 is completely executed\n",
        "a.join()\n",
        "# This may take a while until thread 2 is completely executed\n",
        "b.join()"
      ],
      "execution_count": 58,
      "outputs": [
        {
          "output_type": "stream",
          "name": "stdout",
          "text": [
            "Ordered: pizza\n",
            "Ordered: samosa\n",
            "Ordered: pasta\n",
            "Ordered: biryani\n",
            "Ordered: burger\n",
            "Served: biryani\n",
            "Served: burger\n",
            "Served: pasta\n",
            "Served: samosa\n",
            "Served: pizza\n"
          ]
        }
      ]
    }
  ]
}